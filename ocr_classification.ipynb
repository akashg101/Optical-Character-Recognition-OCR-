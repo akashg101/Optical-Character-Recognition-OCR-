{
 "cells": [
  {
   "cell_type": "code",
   "execution_count": 1,
   "metadata": {},
   "outputs": [
    {
     "name": "stderr",
     "output_type": "stream",
     "text": [
      "/usr/local/lib/python2.7/site-packages/h5py/__init__.py:36: FutureWarning: Conversion of the second argument of issubdtype from `float` to `np.floating` is deprecated. In future, it will be treated as `np.float64 == np.dtype(float).type`.\n",
      "  from ._conv import register_converters as _register_converters\n"
     ]
    }
   ],
   "source": [
    "# Importing packages\n",
    "import pandas as pd\n",
    "import numpy as np\n",
    "import tensorflow as tf\n",
    "import matplotlib.pyplot as plt\n",
    "%matplotlib inline\n",
    "import os\n",
    "import json\n",
    "import re\n",
    "import cv2\n",
    "import h5py\n",
    "import sys\n",
    "import copy\n",
    "import random\n",
    "from collections import deque"
   ]
  },
  {
   "cell_type": "code",
   "execution_count": 2,
   "metadata": {},
   "outputs": [
    {
     "data": {
      "text/plain": [
       "'1.7.0'"
      ]
     },
     "execution_count": 2,
     "metadata": {},
     "output_type": "execute_result"
    }
   ],
   "source": [
    "tf.__version__"
   ]
  },
  {
   "cell_type": "code",
   "execution_count": 3,
   "metadata": {},
   "outputs": [],
   "source": [
    "## defining different variables\n",
    "data_dir = '../data/NIST19/'\n",
    "img_size = 128\n",
    "flatten_image_size = img_size**2\n",
    "num_channels = 3\n",
    "img_shape = (img_size,img_size,num_channels)\n",
    "num_classes = 62 # 26 lower case alphabets, 26 upper case alphabets, 10 digits"
   ]
  },
  {
   "cell_type": "code",
   "execution_count": 4,
   "metadata": {},
   "outputs": [
    {
     "name": "stdout",
     "output_type": "stream",
     "text": [
      "Class and label map generated!!!\n"
     ]
    }
   ],
   "source": [
    "# making the map for label_cls<>class_name conversion\n",
    "label_cls_name_map = {}\n",
    "label_name_cls_map = {}\n",
    "\n",
    "dirs = os.listdir(data_dir)\n",
    "#print dirs\n",
    "label_cls = 0\n",
    "for dir_ in dirs:\n",
    "    try:\n",
    "        if '.DS_Store' in dir_:\n",
    "            continue\n",
    "        class_name = chr(int(dir_,16))\n",
    "        label_cls_name_map[label_cls] = class_name\n",
    "        label_name_cls_map[class_name] = label_cls\n",
    "        label_cls+=1\n",
    "        \n",
    "    except Exception, err:\n",
    "        print Exception, err\n",
    "        \n",
    "label_cls_name_json = json.dumps(label_cls_name_map, indent=4, separators=(',',':'))\n",
    "with open('label_cls_name.json', 'w') as f:\n",
    "    f.write(label_cls_name_json)\n",
    "\n",
    "print \"Class and label map generated!!!\""
   ]
  },
  {
   "cell_type": "code",
   "execution_count": 5,
   "metadata": {},
   "outputs": [],
   "source": [
    "# reading the maps\n",
    "label_cls_name_map = {}\n",
    "label_name_cls_map = {}\n",
    "with open('label_cls_name.json', 'r') as f:\n",
    "    label_cls_name_map = json.loads(f.read())\n",
    "    \n",
    "for k,v in label_cls_name_map.iteritems():\n",
    "    label_name_cls_map[v] = k"
   ]
  },
  {
   "cell_type": "code",
   "execution_count": 6,
   "metadata": {},
   "outputs": [],
   "source": [
    "# queue of files for each class. This will be picked up by the \n",
    "class_queue_map = {}\n",
    "training_perc = 0.9\n",
    "\n",
    "for dir_ in dirs:\n",
    "    try:\n",
    "        if '.DS_Store' in dir_:\n",
    "            continue\n",
    "        class_name = chr(int(dir_,16))\n",
    "        label_cls = label_name_cls_map[class_name]\n",
    "        dir_path = os.path.join(os.path.join(data_dir, dir_), 'train_%s' % dir_)\n",
    "        class_queue_map[label_cls] = deque(os.listdir(dir_path))\n",
    "    except Exception, err:\n",
    "        print Exception, err\n",
    "\n",
    "train_class_queue_map = {}\n",
    "test_class_queue_map = {}\n",
    "for key_, queue_ in class_queue_map.iteritems():\n",
    "    train_class_queue_map[key_] = deque(list(queue_)[:int(len(queue_)*training_perc)])\n",
    "    test_class_queue_map[key_] = deque(list(queue_)[int(len(queue_)*training_perc):])"
   ]
  },
  {
   "cell_type": "code",
   "execution_count": 7,
   "metadata": {},
   "outputs": [],
   "source": [
    "def batch_generator(train_test_class_queue_map, each_class_len=10):\n",
    "    print 'Generating the batch!!!'\n",
    "    \n",
    "    class_queue_map = copy.deepcopy(train_test_class_queue_map)\n",
    "    \n",
    "    total_images = 0\n",
    "    for key_, queue_ in class_queue_map.iteritems():\n",
    "        total_images+=len(queue_)\n",
    "    \n",
    "    print 'Total Images:  ', total_images\n",
    "    \n",
    "    batch_size = len(class_queue_map)*each_class_len\n",
    "    \n",
    "    for iter_ in range(total_images/batch_size):\n",
    "        batch_images = []\n",
    "        batch_labels = []\n",
    "        for key_, queue_ in class_queue_map.iteritems():\n",
    "            try:\n",
    "                for i in range(each_class_len):\n",
    "                    class_name = label_cls_name_map[key_]\n",
    "                    hex_name = class_name.encode('hex')\n",
    "                    full_file_path = os.path.join(os.path.join(os.path.join(data_dir, hex_name), 'train_%s' % hex_name), \n",
    "                                                  queue_.popleft())\n",
    "                    img = cv2.imread(full_file_path)\n",
    "                    res_img = img\n",
    "                    batch_images.append(img)\n",
    "                    \n",
    "                    categorical_label = [0]*num_classes\n",
    "                    categorical_label[key_] = 1\n",
    "                    batch_labels.append(categorical_label)\n",
    "            except:\n",
    "                continue\n",
    "        data = zip(batch_images, batch_labels)\n",
    "        np.random.shuffle(data)\n",
    "        batch_images, batch_labels = zip(*data)\n",
    "        yield np.array(batch_images), np.array(batch_labels)"
   ]
  },
  {
   "cell_type": "code",
   "execution_count": 8,
   "metadata": {},
   "outputs": [],
   "source": [
    "sample_gen = batch_generator(test_class_queue_map, 10)"
   ]
  },
  {
   "cell_type": "code",
   "execution_count": 9,
   "metadata": {},
   "outputs": [
    {
     "name": "stdout",
     "output_type": "stream",
     "text": [
      "Generating the batch!!!\n",
      "Total Images:   73194\n"
     ]
    }
   ],
   "source": [
    "sample_images, sample_labels = next(sample_gen)"
   ]
  },
  {
   "cell_type": "code",
   "execution_count": 10,
   "metadata": {},
   "outputs": [
    {
     "data": {
      "text/plain": [
       "(620, 128, 128, 3)"
      ]
     },
     "execution_count": 10,
     "metadata": {},
     "output_type": "execute_result"
    }
   ],
   "source": [
    "sample_images.shape"
   ]
  },
  {
   "cell_type": "code",
   "execution_count": 5,
   "metadata": {},
   "outputs": [],
   "source": [
    "def plot_images(images, cls_true, cls_pred=None, smooth=True):\n",
    "    assert len(images) == len(cls_true) == 9\n",
    "    # create the figure with subplots\n",
    "    fig, axes = plt.subplots(3,3, figsize=(10, 10))\n",
    "    wspace=2\n",
    "    if cls_pred is None:\n",
    "        hspace=0.1\n",
    "    else:\n",
    "        hspace=0.3\n",
    "    fig.subplots_adjust(hspace=hspace, wspace=wspace)\n",
    "    \n",
    "    for i,ax in enumerate(axes.flat):\n",
    "        if smooth:\n",
    "            interpolation = 'spline16'\n",
    "        else:\n",
    "            interpolation = 'nearest'\n",
    "        \n",
    "        ax.imshow(images[i], interpolation=interpolation)\n",
    "        cls_true_name = label_cls_name_map[np.argmax(cls_true[i])]\n",
    "        \n",
    "        if cls_pred is None:\n",
    "            xlabel = \"True: {0}\".format(cls_true_name)\n",
    "        else:\n",
    "            # Name of the predicted class.\n",
    "            cls_pred_name = label_cls_name_map[np.argmax(cls_pred[i])]\n",
    "\n",
    "            xlabel = \"True: {0}\\nPred: {1}\".format(cls_true_name, cls_pred_name)\n",
    "            \n",
    "        # Show the classes as the label on the x-axis.\n",
    "        ax.set_xlabel(xlabel)\n",
    "        \n",
    "        # Remove ticks from the plot.\n",
    "        ax.set_xticks([])\n",
    "        ax.set_yticks([])\n",
    "    plt.show()"
   ]
  },
  {
   "cell_type": "code",
   "execution_count": 11,
   "metadata": {},
   "outputs": [
    {
     "data": {
      "image/png": "[encoded data removed]",
      "text/plain": [
       "<Figure size 720x720 with 9 Axes>"
      ]
     },
     "metadata": {},
     "output_type": "display_data"
    }
   ],
   "source": [
    "plot_images(sample_images[9:18,:], cls_true=sample_labels[9:18], smooth=True)"
   ]
  },
  {
   "cell_type": "markdown",
   "metadata": {},
   "source": [
    "## Tensorflow based model"
   ]
  },
  {
   "cell_type": "code",
   "execution_count": 28,
   "metadata": {},
   "outputs": [],
   "source": [
    "# CNN MODEL\n",
    "tf.reset_default_graph()\n",
    "x = tf.placeholder(tf.float32, shape=[None, img_size, img_size, num_channels], name='x')\n",
    "conv1 = tf.layers.conv2d(inputs=x, name='layer_conv1', padding='same', filters=32, kernel_size=5, \n",
    "                         activation=tf.nn.relu)\n",
    "pool1 = tf.layers.max_pooling2d(inputs=conv1, pool_size=2, strides=2)\n",
    "conv2 = tf.layers.conv2d(inputs=pool1, name='layer_conv2', padding='same', filters=64, kernel_size=5, \n",
    "                         activation=tf.nn.relu)\n",
    "pool2 = tf.layers.max_pooling2d(inputs=conv2, pool_size=2, strides=2)\n",
    "layer3 = tf.contrib.layers.flatten(pool2)\n",
    "fc1 = tf.layers.dense(inputs=layer3, name='layer_fc1', units=512, activation=tf.nn.relu)\n",
    "fc2 = tf.layers.dense(inputs=fc1, name='layer_fc2', units=256, activation=tf.nn.relu)\n",
    "net = tf.layers.dense(inputs=fc2, name='layer_fc_out', units=num_classes, activation=None)\n",
    "\n",
    "logits = net\n",
    "y_pred = tf.nn.softmax(logits=logits)\n",
    "y_pred_cls = tf.argmax(y_pred, dimension=1)\n",
    "\n",
    "y_true = tf.placeholder(tf.float32, shape=[None, num_classes], name='y_true')\n",
    "y_true_cls = tf.argmax(y_true, axis=1)\n",
    "\n",
    "cross_entropy = tf.nn.softmax_cross_entropy_with_logits(labels=y_true, logits=logits)\n",
    "loss = tf.reduce_mean(cross_entropy)\n",
    "correct_prediction = tf.equal(y_pred_cls, y_true_cls)\n",
    "accuracy = tf.reduce_mean(tf.cast(correct_prediction, tf.float32))\n",
    "\n",
    "optimizer = tf.train.AdamOptimizer(learning_rate=0.0005).minimize(loss)"
   ]
  },
  {
   "cell_type": "code",
   "execution_count": 32,
   "metadata": {},
   "outputs": [],
   "source": [
    "session = tf.Session()\n",
    "session.run(tf.global_variables_initializer())"
   ]
  },
  {
   "cell_type": "code",
   "execution_count": 33,
   "metadata": {},
   "outputs": [],
   "source": [
    "def optimize(train_class_queue_map, epochs=1, each_class_len=10):\n",
    "    # Ensure we update the global variable rather than a local copy.\n",
    "    for epoch_ in range(epochs):\n",
    "        print 'Epoch: ', epoch_+1\n",
    "        avg_acc = []\n",
    "        train_gen = batch_generator(train_class_queue_map, each_class_len)\n",
    "        i=0\n",
    "        y_pred_list = []\n",
    "        y_true_list = []\n",
    "        for x_batch, y_true_batch in train_gen:\n",
    "            # x_batch now holds a batch of images and\n",
    "            # y_true_batch are the true labels for those images.\n",
    "            # Put the batch into a dict with the proper names\n",
    "            feed_dict_train = {x: x_batch, y_true: y_true_batch}\n",
    "            session.run(optimizer, feed_dict=feed_dict_train)\n",
    "            acc = session.run(accuracy, feed_dict=feed_dict_train)\n",
    "            avg_acc.append(acc)\n",
    "            y_pred_list.extend(session.run(y_pred_cls, feed_dict=feed_dict_train))\n",
    "            y_true_list.extend(session.run(y_true_cls, feed_dict=feed_dict_train))\n",
    "            if i % 500 == 0:\n",
    "                # Message for printing every 10th batch.\n",
    "                msg = \"Optimization batch: {0:>6}, Training Accuracy: {1:>6.1%}\"\n",
    "                print(msg.format(i + 1, acc))\n",
    "            i+=1\n",
    "                \n",
    "        # avg accuracy for 1 epoch\n",
    "        correct_prediction = (np.array(y_pred_list) == np.array(y_true_list))\n",
    "        correct_sum = correct_prediction.sum()\n",
    "        acc_ = float(correct_sum) / len(y_true_list)\n",
    "        print 'Average accuracy for the Epoch: ', acc_"
   ]
  },
  {
   "cell_type": "code",
   "execution_count": 34,
   "metadata": {},
   "outputs": [
    {
     "name": "stdout",
     "output_type": "stream",
     "text": [
      "Epoch:  1\n",
      "Generating the batch!!!\n",
      "Total Images:   658474\n",
      "Optimization batch:      1, Training Accuracy:   1.6%\n",
      "Optimization batch:    501, Training Accuracy:  80.4%\n",
      "Optimization batch:   1001, Training Accuracy:  89.7%\n",
      "Optimization batch:   1501, Training Accuracy:  90.7%\n",
      "Optimization batch:   2001, Training Accuracy:  90.0%\n",
      "Average accuracy for the Epoch:  0.770419049896\n",
      "Epoch:  2\n",
      "Generating the batch!!!\n",
      "Total Images:   658474\n",
      "Optimization batch:      1, Training Accuracy:  34.5%\n",
      "Optimization batch:    501, Training Accuracy:  89.4%\n",
      "Optimization batch:   1001, Training Accuracy:  91.0%\n",
      "Optimization batch:   1501, Training Accuracy:  92.9%\n",
      "Optimization batch:   2001, Training Accuracy:  92.7%\n",
      "Average accuracy for the Epoch:  0.856739208391\n",
      "Epoch:  3\n",
      "Generating the batch!!!\n",
      "Total Images:   658474\n",
      "Optimization batch:      1, Training Accuracy:  40.3%\n",
      "Optimization batch:    501, Training Accuracy:  88.9%\n",
      "Optimization batch:   1001, Training Accuracy:  94.5%\n",
      "Optimization batch:   1501, Training Accuracy:  93.6%\n",
      "Optimization batch:   2001, Training Accuracy:  94.5%\n",
      "Average accuracy for the Epoch:  0.884224018881\n",
      "Epoch:  4\n",
      "Generating the batch!!!\n",
      "Total Images:   658474\n",
      "Optimization batch:      1, Training Accuracy:  47.1%\n",
      "Optimization batch:    501, Training Accuracy:  88.9%\n",
      "Optimization batch:   1001, Training Accuracy:  93.8%\n",
      "Optimization batch:   1501, Training Accuracy:  95.7%\n",
      "Optimization batch:   2001, Training Accuracy:  94.5%\n",
      "Average accuracy for the Epoch:  0.901724063388\n",
      "Epoch:  5\n",
      "Generating the batch!!!\n",
      "Total Images:   658474\n",
      "Optimization batch:      1, Training Accuracy:  52.6%\n"
     ]
    },
    {
     "name": "stderr",
     "output_type": "stream",
     "text": [
      "Exception KeyboardInterrupt: KeyboardInterrupt() in <bound method Session.__del__ of <tensorflow.python.client.session.Session object at 0x7f19ac3b6d50>> ignored\n",
      "\n",
      "KeyboardInterrupt\n",
      "\n"
     ]
    }
   ],
   "source": [
    "#optimize(train_class_queue_map,epochs=5, each_class_len=5)"
   ]
  },
  {
   "cell_type": "code",
   "execution_count": 35,
   "metadata": {},
   "outputs": [
    {
     "data": {
      "text/plain": [
       "'ocr_checkpoints/best_validation'"
      ]
     },
     "execution_count": 35,
     "metadata": {},
     "output_type": "execute_result"
    }
   ],
   "source": [
    "# saver = tf.train.Saver()\n",
    "# save_dir = 'ocr_checkpoints/'\n",
    "# if not os.path.exists(save_dir):\n",
    "#     os.makedirs(save_dir)\n",
    "# save_path = os.path.join(save_dir, 'best_validation')\n",
    "# saver.save(sess=session, save_path=save_path)"
   ]
  },
  {
   "cell_type": "code",
   "execution_count": null,
   "metadata": {},
   "outputs": [],
   "source": [
    "saver= tf.train.Saver()\n",
    "saver.restore(sess=session, save_path='../dl_models/ocr_checkpoints/best_validation')"
   ]
  },
  {
   "cell_type": "code",
   "execution_count": 36,
   "metadata": {},
   "outputs": [],
   "source": [
    "def predict(test_class_queue_map, inception=False, transfer_layer=False, limit=None):\n",
    "    '''\n",
    "    takes the list of np array of images as input and predicts the class.\n",
    "    '''\n",
    "    y_pred_cls_list = []\n",
    "    y_true_cls_list = []\n",
    "    gen_ = batch_generator(test_class_queue_map, 1)\n",
    "    for j, (x_batch, y_true_batch) in enumerate(gen_):\n",
    "        if limit:\n",
    "            if j == limit:\n",
    "                break\n",
    "        for i, image_ in enumerate(x_batch):\n",
    "            shape_ = image_.shape\n",
    "            if inception==True and transfer_layer==True:\n",
    "                pass\n",
    "                #feed_dict = {x: transfer_values_test[i].reshape(1,-1)}\n",
    "                #y_pred_ = session.run(y_pred, feed_dict=feed_dict)\n",
    "                #y_pred_ = np.squeeze(y_pred_)\n",
    "                #y_pred_cls_ = np.argmax(y_pred_)\n",
    "                #y_pred_list.append(y_pred_cls_)\n",
    "                #y_pred_cls_list.append(y_pred_cls_)\n",
    "            \n",
    "            elif inception==True and transfer_layer==False:\n",
    "                pass\n",
    "                #feed_dict = {tensor_name_input_image: image_}\n",
    "                #y_pred_ = session.run(y_pred, feed_dict=feed_dict)\n",
    "                #y_pred_ = np.squeeze(y_pred_)\n",
    "                #tmp_cls = np.argmax(y_pred_)\n",
    "                #tmp_name = uid_name[cls_uid[tmp_cls]].split(',')[0]\n",
    "                #tmp_name = re.sub(' ', '_', tmp_name)\n",
    "                #print tmp_name\n",
    "                #try:\n",
    "                #    y_pred_cls_ = label_name_cls_map[tmp_name]\n",
    "                #except:\n",
    "                #    y_pred_cls_ = 0\n",
    "                #y_pred_list.append(y_pred_cls_)\n",
    "                #y_pred_cls_list.append(y_pred_cls_)\n",
    "            else:\n",
    "                feed_dict = {x: np.reshape(image_, (1, shape_[0], shape_[1], shape_[2]))}\n",
    "                y_pred_ = session.run(y_pred, feed_dict=feed_dict)\n",
    "                y_pred_ = np.squeeze(y_pred_)\n",
    "                y_pred_cls_ = np.argmax(y_pred_)\n",
    "                y_pred_cls_list.append(y_pred_cls_)\n",
    "                y_true_cls_list.append(np.argmax(y_true_batch[i]))\n",
    "    return np.array(y_true_cls_list), np.array(y_pred_cls_list)"
   ]
  },
  {
   "cell_type": "code",
   "execution_count": 37,
   "metadata": {},
   "outputs": [
    {
     "name": "stdout",
     "output_type": "stream",
     "text": [
      "Generating the batch!!!\n",
      "Total Images:   73194\n",
      "Accuracy on Test-Set: 79.3% (34683 / 43711)\n"
     ]
    }
   ],
   "source": [
    "test_true_cls, test_pred_cls = predict(test_class_queue_map, inception=False, transfer_layer=False)\n",
    "\n",
    "correct_prediction = (test_true_cls == test_pred_cls)\n",
    "correct_sum = correct_prediction.sum()\n",
    "acc = float(correct_sum) / len(test_true_cls)\n",
    "msg = \"Accuracy on Test-Set: {0:.1%} ({1} / {2})\"\n",
    "print(msg.format(acc, correct_sum, len(test_true_cls)))"
   ]
  },
  {
   "cell_type": "code",
   "execution_count": 38,
   "metadata": {},
   "outputs": [
    {
     "name": "stdout",
     "output_type": "stream",
     "text": [
      "Generating the batch!!!\n",
      "Total Images:   658474\n"
     ]
    },
    {
     "name": "stderr",
     "output_type": "stream",
     "text": [
      "ERROR:root:Internal Python error in the inspect module.\n",
      "Below is the traceback from this internal error.\n",
      "\n"
     ]
    },
    {
     "name": "stdout",
     "output_type": "stream",
     "text": [
      "Traceback (most recent call last):\n",
      "  File \"/home/ga.sharma/anaconda3/envs/ocr2/lib/python2.7/site-packages/IPython/core/ultratb.py\", line 1132, in get_records\n"
     ]
    },
    {
     "name": "stderr",
     "output_type": "stream",
     "text": [
      "\n",
      "KeyboardInterrupt\n",
      "\n"
     ]
    }
   ],
   "source": [
    "train_true_cls, train_pred_cls = predict(train_class_queue_map, inception=False, transfer_layer=False)\n",
    "correct_prediction = (traiiiin_true_cls == train_pred_cls)\n",
    "correct_sum = correct_prediction.sum()\n",
    "acc = float(correct_sum) / len(train_true_cls)\n",
    "msg = \"Accuracy on Test-Set: {0:.1%} ({1} / {2})\"\n",
    "print(msg.format(acc, correct_sum, len(train_true_cls)))"
   ]
  },
  {
   "cell_type": "code",
   "execution_count": null,
   "metadata": {},
   "outputs": [],
   "source": []
  }
 ],
 "metadata": {
  "kernelspec": {
   "display_name": "Python 2",
   "language": "python",
   "name": "python2"
  },
  "language_info": {
   "codemirror_mode": {
    "name": "ipython",
    "version": 2
   },
   "file_extension": ".py",
   "mimetype": "text/x-python",
   "name": "python",
   "nbconvert_exporter": "python",
   "pygments_lexer": "ipython2",
   "version": "2.7.14"
  }
 },
 "nbformat": 4,
 "nbformat_minor": 1
}
