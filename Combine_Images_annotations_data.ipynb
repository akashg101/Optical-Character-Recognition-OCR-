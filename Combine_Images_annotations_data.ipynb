{
 "cells": [
  {
   "cell_type": "markdown",
   "metadata": {},
   "source": [
    "### Combine NIST19 data"
   ]
  },
  {
   "cell_type": "code",
   "execution_count": 8,
   "metadata": {},
   "outputs": [],
   "source": [
    "import pandas as pd\n",
    "import numpy as np\n",
    "import matplotlib.pyplot as plt\n",
    "%matplotlib inline\n",
    "import cv2\n",
    "import PIL\n",
    "import json\n",
    "import os\n",
    "import re\n",
    "import shutil\n",
    "import sys\n",
    "\n",
    "data_dir= '../data/NIST19/'\n",
    "combined_dir = '../data/NIST19_combined2/'\n",
    "img_size = 128\n",
    "flatten_image_size = img_size**2\n",
    "num_channels = 3\n",
    "img_shape = (img_size,img_size,num_channels)\n",
    "num_classes = 62 # 26 lower case alphabets, 26 upper case alphabets, 10 digits\n",
    "\n",
    "# reading the maps\n",
    "label_cls_name_map = {}\n",
    "label_name_cls_map = {}\n",
    "with open('label_cls_name.json', 'r') as f:\n",
    "    label_cls_name_map = json.loads(f.read())\n",
    "    \n",
    "for k,v in label_cls_name_map.iteritems():\n",
    "    label_name_cls_map[v] = k"
   ]
  },
  {
   "cell_type": "code",
   "execution_count": 9,
   "metadata": {},
   "outputs": [],
   "source": [
    "try:\n",
    "    shutil.rmtree(combined_dir)\n",
    "except:\n",
    "    pass\n",
    "try:\n",
    "    os.mkdir(combined_dir)\n",
    "    os.mkdir(os.path.join(combined_dir,'train_images'))\n",
    "    os.mkdir(os.path.join(combined_dir,'test_images'))\n",
    "except:\n",
    "    print('check the directory')"
   ]
  },
  {
   "cell_type": "code",
   "execution_count": null,
   "metadata": {},
   "outputs": [
    {
     "name": "stdout",
     "output_type": "stream",
     "text": [
      "408"
     ]
    }
   ],
   "source": [
    "num_examples = 1000000\n",
    "dirs = os.listdir(data_dir)\n",
    "\n",
    "x_width_range = range(35,45)\n",
    "y_width_range = range(35,45)\n",
    "\n",
    "annotations = []\n",
    "i=1\n",
    "while i <= num_examples:\n",
    "    for num_dirs in range(3,10):\n",
    "        sys.stdout.write('\\r'+str(i))\n",
    "        dirs_ = np.random.choice(dirs, num_dirs)\n",
    "        for j, dir_ in enumerate(dirs_):\n",
    "            train_dir = os.path.join(data_dir, os.path.join(dir_ , 'train_%s' % dir_))\n",
    "            picked_image = np.random.choice(os.listdir(train_dir))\n",
    "            picked_image_path = os.path.join(train_dir, picked_image)\n",
    "            img = cv2.imread(picked_image_path)\n",
    "            img = img[30:100, 30:100]\n",
    "            \n",
    "            if j > 0:\n",
    "                img = np.concatenate((old_image, img), axis=1)\n",
    "                old_image = img\n",
    "                x_start = x_end + 30\n",
    "                y_start = np.random.choice(range(10,15))\n",
    "                x_end = x_start + np.random.choice(x_width_range)\n",
    "                y_end = y_start + np.random.choice(y_width_range)\n",
    "                \n",
    "            else:\n",
    "                old_image = img\n",
    "                x_start = np.random.choice(range(10,15))\n",
    "                y_start = np.random.choice(range(10,15))\n",
    "                x_end = x_start + np.random.choice(x_width_range)\n",
    "                y_end = y_start + np.random.choice(y_width_range)\n",
    "                \n",
    "            class_ = chr(int(dir_, 16))\n",
    "            annotations.append(('combined_%s.png' % i, num_dirs*70, 70, class_, x_start, y_start, x_end, y_end))\n",
    "        cv2.imwrite(os.path.join(os.path.join(combined_dir, 'train_images'), 'combined_%s.png' % i), img)\n",
    "        i+=1\n",
    "        \n",
    "annotations_df = pd.DataFrame(annotations, columns=['filename', 'width', 'height', 'class', 'xmin', 'ymin',\n",
    "                                                    'xmax', 'ymax'])\n",
    "\n",
    "annotations_df.to_csv(os.path.join(combined_dir, 'ocr_combined_train_annotations.csv'), index=False)"
   ]
  },
  {
   "cell_type": "code",
   "execution_count": null,
   "metadata": {},
   "outputs": [],
   "source": [
    "# img1 = cv2.imread('../data/NIST19/35/train_35/train_35_00006.png')\n",
    "# img1 = img1[30:100, 30:100]\n",
    "# img2 = cv2.imread('../data/NIST19/32/train_32/train_32_00003.png')\n",
    "# img2 = img2[30:100, 30:100]\n",
    "# img3 = cv2.imread('../data/NIST19/33/train_33/train_33_00005.png')\n",
    "# img3 = img3[30:100, 30:100]\n",
    "# img4 = cv2.imread('../data/NIST19/33/train_33/train_33_00005.png')\n",
    "# img4 = img4[30:100, 30:100]\n",
    "# img5 = cv2.imread('../data/NIST19/33/train_33/train_33_00005.png')\n",
    "# img5 = img5[30:100, 30:100]\n",
    "\n",
    "# img = np.concatenate((img1, img2, img3, img4, img5), axis=1)\n",
    "# cv2.rectangle(img,(10, 10),(50,50),(0,255,0),3)\n",
    "# cv2.rectangle(img,(80, 10),(120,50),(0,255,0),3)\n",
    "# cv2.rectangle(img,(150, 10),(190,50),(0,255,0),3)\n",
    "# cv2.rectangle(img,(220, 10),(260,50),(0,255,0),3)\n",
    "# cv2.rectangle(img,(290, 10),(330,50),(0,255,0),3)\n",
    "\n",
    "# plt.imshow(img)"
   ]
  },
  {
   "cell_type": "code",
   "execution_count": null,
   "metadata": {},
   "outputs": [],
   "source": [
    "img.shape"
   ]
  },
  {
   "cell_type": "code",
   "execution_count": null,
   "metadata": {},
   "outputs": [],
   "source": []
  }
 ],
 "metadata": {
  "kernelspec": {
   "display_name": "Python 2",
   "language": "python",
   "name": "python2"
  },
  "language_info": {
   "codemirror_mode": {
    "name": "ipython",
    "version": 2
   },
   "file_extension": ".py",
   "mimetype": "text/x-python",
   "name": "python",
   "nbconvert_exporter": "python",
   "pygments_lexer": "ipython2",
   "version": "2.7.14"
  }
 },
 "nbformat": 4,
 "nbformat_minor": 2
}
