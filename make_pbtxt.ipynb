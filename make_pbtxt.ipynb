{
 "cells": [
  {
   "cell_type": "code",
   "execution_count": 1,
   "metadata": {},
   "outputs": [
    {
     "name": "stderr",
     "output_type": "stream",
     "text": [
      "/home/ga.sharma/anaconda3/envs/ocr/lib/python2.7/site-packages/h5py/__init__.py:36: FutureWarning: Conversion of the second argument of issubdtype from `float` to `np.floating` is deprecated. In future, it will be treated as `np.float64 == np.dtype(float).type`.\n",
      "  from ._conv import register_converters as _register_converters\n"
     ]
    }
   ],
   "source": [
    "import pandas as pd\n",
    "import numpy as np\n",
    "import tensorflow as tf\n",
    "import matplotlib.pyplot as plt\n",
    "%matplotlib inline\n",
    "import os\n",
    "import json\n",
    "import re\n",
    "import cv2\n",
    "import h5py\n",
    "import sys\n",
    "import copy\n",
    "import random\n",
    "from collections import deque\n",
    "\n",
    "## defining different variables\n",
    "data_dir = '../data/NIST19/'\n",
    "img_size = 128\n",
    "flatten_image_size = img_size**2\n",
    "num_channels = 3\n",
    "img_shape = (img_size,img_size,num_channels)\n",
    "num_classes = 62 # 26 lower case alphabets, 26 upper case alphabets, 10 digits\n",
    "\n",
    "# reading the maps\n",
    "label_cls_name_map = {}\n",
    "label_name_cls_map = {}\n",
    "with open('label_cls_name.json', 'r') as f:\n",
    "    label_cls_name_map = json.loads(f.read())\n",
    "    \n",
    "for k,v in label_cls_name_map.iteritems():\n",
    "    label_name_cls_map[v] = k"
   ]
  },
  {
   "cell_type": "code",
   "execution_count": 2,
   "metadata": {},
   "outputs": [],
   "source": [
    "with open('ocr.pbtxt', 'a') as f:\n",
    "    for k,v in label_cls_name_map.iteritems():\n",
    "        str_ = \"\"\"item {\n",
    "        id: %d \n",
    "        name: '%s'\n",
    "        }\\n\"\"\" % (int(k)+1, v)\n",
    "        f.write(str_)"
   ]
  },
  {
   "cell_type": "code",
   "execution_count": null,
   "metadata": {},
   "outputs": [],
   "source": []
  }
 ],
 "metadata": {
  "kernelspec": {
   "display_name": "Python 2",
   "language": "python",
   "name": "python2"
  },
  "language_info": {
   "codemirror_mode": {
    "name": "ipython",
    "version": 2
   },
   "file_extension": ".py",
   "mimetype": "text/x-python",
   "name": "python",
   "nbconvert_exporter": "python",
   "pygments_lexer": "ipython2",
   "version": "2.7.14"
  }
 },
 "nbformat": 4,
 "nbformat_minor": 2
}
